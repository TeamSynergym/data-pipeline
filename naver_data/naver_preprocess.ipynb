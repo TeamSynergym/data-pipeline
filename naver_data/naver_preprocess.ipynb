{
 "cells": [
  {
   "cell_type": "code",
   "execution_count": 1,
   "id": "b8b5bc5c",
   "metadata": {},
   "outputs": [],
   "source": [
    "import pandas as pd\n",
    "\n",
    "df_yoga = pd.read_csv(\"naver_terms_yoga.csv\")\n",
    "df_stretching = pd.read_csv(\"naver_terms_stretching.csv\")\n",
    "df_workout = pd.read_csv(\"naver_terms_workout.csv\")"
   ]
  },
  {
   "cell_type": "code",
   "execution_count": 2,
   "id": "f6065dee",
   "metadata": {},
   "outputs": [],
   "source": [
    "df_yoga[\"종류\"] = \"요가\"\n",
    "df_stretching[\"종류\"] = \"스트레칭\"\n",
    "df_workout[\"종류\"] = \"근력 운동\""
   ]
  },
  {
   "cell_type": "code",
   "execution_count": 3,
   "id": "8f9dc31b",
   "metadata": {},
   "outputs": [
    {
     "data": {
      "text/html": [
       "<div>\n",
       "<style scoped>\n",
       "    .dataframe tbody tr th:only-of-type {\n",
       "        vertical-align: middle;\n",
       "    }\n",
       "\n",
       "    .dataframe tbody tr th {\n",
       "        vertical-align: top;\n",
       "    }\n",
       "\n",
       "    .dataframe thead th {\n",
       "        text-align: right;\n",
       "    }\n",
       "</style>\n",
       "<table border=\"1\" class=\"dataframe\">\n",
       "  <thead>\n",
       "    <tr style=\"text-align: right;\">\n",
       "      <th></th>\n",
       "      <th>제목</th>\n",
       "      <th>개요</th>\n",
       "      <th>효과</th>\n",
       "      <th>썸네일</th>\n",
       "      <th>난이도</th>\n",
       "      <th>자세분류</th>\n",
       "      <th>부위</th>\n",
       "      <th>종류</th>\n",
       "    </tr>\n",
       "  </thead>\n",
       "  <tbody>\n",
       "    <tr>\n",
       "      <th>0</th>\n",
       "      <td>운동 전후 스트레칭</td>\n",
       "      <td>NaN</td>\n",
       "      <td>NaN</td>\n",
       "      <td>https://dbscthumb-phinf.pstatic.net/0955_000_1...</td>\n",
       "      <td>NaN</td>\n",
       "      <td>NaN</td>\n",
       "      <td>NaN</td>\n",
       "      <td>스트레칭</td>\n",
       "    </tr>\n",
       "    <tr>\n",
       "      <th>1</th>\n",
       "      <td>NaN</td>\n",
       "      <td>NaN</td>\n",
       "      <td>NaN</td>\n",
       "      <td>NaN</td>\n",
       "      <td>NaN</td>\n",
       "      <td>NaN</td>\n",
       "      <td>NaN</td>\n",
       "      <td>스트레칭</td>\n",
       "    </tr>\n",
       "    <tr>\n",
       "      <th>2</th>\n",
       "      <td>아침 스트레칭</td>\n",
       "      <td>NaN</td>\n",
       "      <td>NaN</td>\n",
       "      <td>https://dbscthumb-phinf.pstatic.net/0955_000_1...</td>\n",
       "      <td>NaN</td>\n",
       "      <td>NaN</td>\n",
       "      <td>NaN</td>\n",
       "      <td>스트레칭</td>\n",
       "    </tr>\n",
       "    <tr>\n",
       "      <th>3</th>\n",
       "      <td>NaN</td>\n",
       "      <td>NaN</td>\n",
       "      <td>NaN</td>\n",
       "      <td>NaN</td>\n",
       "      <td>NaN</td>\n",
       "      <td>NaN</td>\n",
       "      <td>NaN</td>\n",
       "      <td>스트레칭</td>\n",
       "    </tr>\n",
       "    <tr>\n",
       "      <th>4</th>\n",
       "      <td>잠자기 전 스트레칭</td>\n",
       "      <td>NaN</td>\n",
       "      <td>NaN</td>\n",
       "      <td>https://dbscthumb-phinf.pstatic.net/0955_000_1...</td>\n",
       "      <td>NaN</td>\n",
       "      <td>NaN</td>\n",
       "      <td>NaN</td>\n",
       "      <td>스트레칭</td>\n",
       "    </tr>\n",
       "  </tbody>\n",
       "</table>\n",
       "</div>"
      ],
      "text/plain": [
       "           제목   개요   효과                                                썸네일  \\\n",
       "0  운동 전후 스트레칭  NaN  NaN  https://dbscthumb-phinf.pstatic.net/0955_000_1...   \n",
       "1         NaN  NaN  NaN                                                NaN   \n",
       "2     아침 스트레칭  NaN  NaN  https://dbscthumb-phinf.pstatic.net/0955_000_1...   \n",
       "3         NaN  NaN  NaN                                                NaN   \n",
       "4  잠자기 전 스트레칭  NaN  NaN  https://dbscthumb-phinf.pstatic.net/0955_000_1...   \n",
       "\n",
       "   난이도  자세분류   부위    종류  \n",
       "0  NaN   NaN  NaN  스트레칭  \n",
       "1  NaN   NaN  NaN  스트레칭  \n",
       "2  NaN   NaN  NaN  스트레칭  \n",
       "3  NaN   NaN  NaN  스트레칭  \n",
       "4  NaN   NaN  NaN  스트레칭  "
      ]
     },
     "execution_count": 3,
     "metadata": {},
     "output_type": "execute_result"
    }
   ],
   "source": [
    "df_stretching.head()"
   ]
  },
  {
   "cell_type": "code",
   "execution_count": 4,
   "id": "51b59090",
   "metadata": {},
   "outputs": [
    {
     "data": {
      "text/html": [
       "<div>\n",
       "<style scoped>\n",
       "    .dataframe tbody tr th:only-of-type {\n",
       "        vertical-align: middle;\n",
       "    }\n",
       "\n",
       "    .dataframe tbody tr th {\n",
       "        vertical-align: top;\n",
       "    }\n",
       "\n",
       "    .dataframe thead th {\n",
       "        text-align: right;\n",
       "    }\n",
       "</style>\n",
       "<table border=\"1\" class=\"dataframe\">\n",
       "  <thead>\n",
       "    <tr style=\"text-align: right;\">\n",
       "      <th></th>\n",
       "      <th>제목</th>\n",
       "      <th>개요</th>\n",
       "      <th>효과</th>\n",
       "      <th>썸네일</th>\n",
       "      <th>난이도</th>\n",
       "      <th>자세분류</th>\n",
       "      <th>부위</th>\n",
       "      <th>종류</th>\n",
       "    </tr>\n",
       "  </thead>\n",
       "  <tbody>\n",
       "    <tr>\n",
       "      <th>979</th>\n",
       "      <td>NaN</td>\n",
       "      <td>NaN</td>\n",
       "      <td>NaN</td>\n",
       "      <td>NaN</td>\n",
       "      <td>NaN</td>\n",
       "      <td>NaN</td>\n",
       "      <td>NaN</td>\n",
       "      <td>근력 운동</td>\n",
       "    </tr>\n",
       "    <tr>\n",
       "      <th>980</th>\n",
       "      <td>NaN</td>\n",
       "      <td>NaN</td>\n",
       "      <td>NaN</td>\n",
       "      <td>NaN</td>\n",
       "      <td>NaN</td>\n",
       "      <td>NaN</td>\n",
       "      <td>NaN</td>\n",
       "      <td>근력 운동</td>\n",
       "    </tr>\n",
       "    <tr>\n",
       "      <th>981</th>\n",
       "      <td>NaN</td>\n",
       "      <td>NaN</td>\n",
       "      <td>NaN</td>\n",
       "      <td>NaN</td>\n",
       "      <td>NaN</td>\n",
       "      <td>NaN</td>\n",
       "      <td>NaN</td>\n",
       "      <td>근력 운동</td>\n",
       "    </tr>\n",
       "    <tr>\n",
       "      <th>982</th>\n",
       "      <td>NaN</td>\n",
       "      <td>NaN</td>\n",
       "      <td>NaN</td>\n",
       "      <td>NaN</td>\n",
       "      <td>NaN</td>\n",
       "      <td>NaN</td>\n",
       "      <td>NaN</td>\n",
       "      <td>근력 운동</td>\n",
       "    </tr>\n",
       "    <tr>\n",
       "      <th>983</th>\n",
       "      <td>NaN</td>\n",
       "      <td>NaN</td>\n",
       "      <td>NaN</td>\n",
       "      <td>NaN</td>\n",
       "      <td>NaN</td>\n",
       "      <td>NaN</td>\n",
       "      <td>NaN</td>\n",
       "      <td>근력 운동</td>\n",
       "    </tr>\n",
       "  </tbody>\n",
       "</table>\n",
       "</div>"
      ],
      "text/plain": [
       "      제목   개요   효과  썸네일  난이도 자세분류   부위     종류\n",
       "979  NaN  NaN  NaN  NaN  NaN  NaN  NaN  근력 운동\n",
       "980  NaN  NaN  NaN  NaN  NaN  NaN  NaN  근력 운동\n",
       "981  NaN  NaN  NaN  NaN  NaN  NaN  NaN  근력 운동\n",
       "982  NaN  NaN  NaN  NaN  NaN  NaN  NaN  근력 운동\n",
       "983  NaN  NaN  NaN  NaN  NaN  NaN  NaN  근력 운동"
      ]
     },
     "execution_count": 4,
     "metadata": {},
     "output_type": "execute_result"
    }
   ],
   "source": [
    "df_all = pd.concat([df_yoga, df_stretching, df_workout], ignore_index=True)\n",
    "df_all.tail()"
   ]
  },
  {
   "cell_type": "code",
   "execution_count": 5,
   "id": "44e8a8bb",
   "metadata": {},
   "outputs": [
    {
     "data": {
      "text/html": [
       "<div>\n",
       "<style scoped>\n",
       "    .dataframe tbody tr th:only-of-type {\n",
       "        vertical-align: middle;\n",
       "    }\n",
       "\n",
       "    .dataframe tbody tr th {\n",
       "        vertical-align: top;\n",
       "    }\n",
       "\n",
       "    .dataframe thead th {\n",
       "        text-align: right;\n",
       "    }\n",
       "</style>\n",
       "<table border=\"1\" class=\"dataframe\">\n",
       "  <thead>\n",
       "    <tr style=\"text-align: right;\">\n",
       "      <th></th>\n",
       "      <th>제목</th>\n",
       "      <th>개요</th>\n",
       "      <th>효과</th>\n",
       "      <th>썸네일</th>\n",
       "      <th>난이도</th>\n",
       "      <th>자세분류</th>\n",
       "      <th>부위</th>\n",
       "      <th>종류</th>\n",
       "    </tr>\n",
       "  </thead>\n",
       "  <tbody>\n",
       "    <tr>\n",
       "      <th>count</th>\n",
       "      <td>273</td>\n",
       "      <td>269</td>\n",
       "      <td>136</td>\n",
       "      <td>259</td>\n",
       "      <td>220</td>\n",
       "      <td>101</td>\n",
       "      <td>230</td>\n",
       "      <td>984</td>\n",
       "    </tr>\n",
       "    <tr>\n",
       "      <th>unique</th>\n",
       "      <td>253</td>\n",
       "      <td>249</td>\n",
       "      <td>125</td>\n",
       "      <td>238</td>\n",
       "      <td>3</td>\n",
       "      <td>4</td>\n",
       "      <td>32</td>\n",
       "      <td>3</td>\n",
       "    </tr>\n",
       "    <tr>\n",
       "      <th>top</th>\n",
       "      <td>한쪽 다리 틀어 비틀기</td>\n",
       "      <td>앉은 산 자세는 어깨와 팔, 척추를 스트레칭 해주고 깊은 호흡을 유도해주는 동작이다...</td>\n",
       "      <td>- 편안한 호흡을 돕는다. \\r\\n\\t - 요통과 어깨 결림에 도움이 된다.\\r\\n...</td>\n",
       "      <td>https://dbscthumb-phinf.pstatic.net/0955_000_1...</td>\n",
       "      <td>초급</td>\n",
       "      <td>누운 자세</td>\n",
       "      <td>복부</td>\n",
       "      <td>근력 운동</td>\n",
       "    </tr>\n",
       "    <tr>\n",
       "      <th>freq</th>\n",
       "      <td>2</td>\n",
       "      <td>2</td>\n",
       "      <td>2</td>\n",
       "      <td>2</td>\n",
       "      <td>137</td>\n",
       "      <td>39</td>\n",
       "      <td>31</td>\n",
       "      <td>506</td>\n",
       "    </tr>\n",
       "  </tbody>\n",
       "</table>\n",
       "</div>"
      ],
      "text/plain": [
       "                  제목                                                 개요  \\\n",
       "count            273                                                269   \n",
       "unique           253                                                249   \n",
       "top     한쪽 다리 틀어 비틀기  앉은 산 자세는 어깨와 팔, 척추를 스트레칭 해주고 깊은 호흡을 유도해주는 동작이다...   \n",
       "freq               2                                                  2   \n",
       "\n",
       "                                                       효과  \\\n",
       "count                                                 136   \n",
       "unique                                                125   \n",
       "top     - 편안한 호흡을 돕는다. \\r\\n\\t - 요통과 어깨 결림에 도움이 된다.\\r\\n...   \n",
       "freq                                                    2   \n",
       "\n",
       "                                                      썸네일  난이도   자세분류   부위  \\\n",
       "count                                                 259  220    101  230   \n",
       "unique                                                238    3      4   32   \n",
       "top     https://dbscthumb-phinf.pstatic.net/0955_000_1...   초급  누운 자세   복부   \n",
       "freq                                                    2  137     39   31   \n",
       "\n",
       "           종류  \n",
       "count     984  \n",
       "unique      3  \n",
       "top     근력 운동  \n",
       "freq      506  "
      ]
     },
     "execution_count": 5,
     "metadata": {},
     "output_type": "execute_result"
    }
   ],
   "source": [
    "df_all.describe()"
   ]
  },
  {
   "cell_type": "code",
   "execution_count": 6,
   "id": "ffe5a0d6",
   "metadata": {},
   "outputs": [
    {
     "name": "stdout",
     "output_type": "stream",
     "text": [
      "드랍 행 수: 711\n",
      "남은 행 수: 273\n"
     ]
    }
   ],
   "source": [
    "# \"종류\" 컬럼을 제외한 나머지 컬럼 목록 추출\n",
    "cols_except_kind = df_all.columns.difference([\"종류\"])\n",
    "\n",
    "# 그 컬럼들 전부가 NaN인 행을 제거\n",
    "before = len(df_all)\n",
    "df_all = df_all[~df_all[cols_except_kind].isna().all(axis=1)]\n",
    "after = len(df_all)\n",
    "\n",
    "print(f\"드랍 행 수: {before - after}\")\n",
    "print(f\"남은 행 수: {after}\")"
   ]
  },
  {
   "cell_type": "code",
   "execution_count": 7,
   "id": "6c4eab51",
   "metadata": {},
   "outputs": [
    {
     "name": "stdout",
     "output_type": "stream",
     "text": [
      "제목        0\n",
      "개요        4\n",
      "효과      137\n",
      "썸네일      14\n",
      "난이도      53\n",
      "자세분류    172\n",
      "부위       43\n",
      "종류        0\n",
      "dtype: int64\n"
     ]
    }
   ],
   "source": [
    "print(df_all.isna().sum())"
   ]
  },
  {
   "cell_type": "code",
   "execution_count": 8,
   "id": "551896da",
   "metadata": {},
   "outputs": [
    {
     "name": "stdout",
     "output_type": "stream",
     "text": [
      "제거된 행 수: 4\n",
      "남은 전체 행 수: 269\n"
     ]
    }
   ],
   "source": [
    "before = len(df_all)\n",
    "df_all = df_all.dropna(subset=[\"개요\", \"효과\"], how=\"all\")\n",
    "after = len(df_all)\n",
    "\n",
    "print(f\"제거된 행 수: {before - after}\")\n",
    "print(f\"남은 전체 행 수: {after}\")\n"
   ]
  },
  {
   "cell_type": "code",
   "execution_count": 9,
   "id": "b4aa838e",
   "metadata": {},
   "outputs": [
    {
     "name": "stdout",
     "output_type": "stream",
     "text": [
      "제목        0\n",
      "개요        0\n",
      "효과      133\n",
      "썸네일      14\n",
      "난이도      49\n",
      "자세분류    168\n",
      "부위       39\n",
      "종류        0\n",
      "dtype: int64\n"
     ]
    }
   ],
   "source": [
    "print(df_all.isna().sum())"
   ]
  },
  {
   "cell_type": "code",
   "execution_count": 10,
   "id": "7391ca10",
   "metadata": {},
   "outputs": [],
   "source": [
    "df_all.loc[df_all[\"종류\"] == \"스트레칭\", \"난이도\"] = \"초급\""
   ]
  },
  {
   "cell_type": "code",
   "execution_count": 11,
   "id": "8c55318f",
   "metadata": {},
   "outputs": [
    {
     "name": "stdout",
     "output_type": "stream",
     "text": [
      "제목        0\n",
      "개요        0\n",
      "효과      133\n",
      "썸네일      14\n",
      "난이도      14\n",
      "자세분류    168\n",
      "부위       39\n",
      "종류        0\n",
      "dtype: int64\n"
     ]
    }
   ],
   "source": [
    "print(df_all.isna().sum())"
   ]
  },
  {
   "cell_type": "code",
   "execution_count": 12,
   "id": "eefbfe28",
   "metadata": {},
   "outputs": [
    {
     "name": "stdout",
     "output_type": "stream",
     "text": [
      "전체 행 수: 269\n"
     ]
    }
   ],
   "source": [
    "print(f\"전체 행 수: {len(df_all)}\")"
   ]
  },
  {
   "cell_type": "code",
   "execution_count": 13,
   "id": "3596f8a8",
   "metadata": {},
   "outputs": [
    {
     "name": "stdout",
     "output_type": "stream",
     "text": [
      "중복된 행 수 (첫 번째 제외): 19\n"
     ]
    }
   ],
   "source": [
    "duplicates_count = df_all.duplicated().sum()\n",
    "print(f\"중복된 행 수 (첫 번째 제외): {duplicates_count}\")\n"
   ]
  },
  {
   "cell_type": "code",
   "execution_count": 14,
   "id": "96c689ba",
   "metadata": {},
   "outputs": [],
   "source": [
    "df_all = df_all.drop_duplicates(keep='first')\n"
   ]
  },
  {
   "cell_type": "code",
   "execution_count": 15,
   "id": "38b11993",
   "metadata": {},
   "outputs": [
    {
     "name": "stdout",
     "output_type": "stream",
     "text": [
      "중복 제거 후 전체 행 수: 250\n"
     ]
    }
   ],
   "source": [
    "print(f\"중복 제거 후 전체 행 수: {len(df_all)}\")"
   ]
  },
  {
   "cell_type": "code",
   "execution_count": 16,
   "id": "5cbe4af9",
   "metadata": {},
   "outputs": [
    {
     "name": "stdout",
     "output_type": "stream",
     "text": [
      "제목        0\n",
      "개요        0\n",
      "효과      124\n",
      "썸네일      12\n",
      "난이도      12\n",
      "자세분류    159\n",
      "부위       36\n",
      "종류        0\n",
      "dtype: int64\n"
     ]
    }
   ],
   "source": [
    "print(df_all.isna().sum())"
   ]
  },
  {
   "cell_type": "code",
   "execution_count": 17,
   "id": "3f1e2f28",
   "metadata": {},
   "outputs": [
    {
     "data": {
      "text/html": [
       "<div>\n",
       "<style scoped>\n",
       "    .dataframe tbody tr th:only-of-type {\n",
       "        vertical-align: middle;\n",
       "    }\n",
       "\n",
       "    .dataframe tbody tr th {\n",
       "        vertical-align: top;\n",
       "    }\n",
       "\n",
       "    .dataframe thead th {\n",
       "        text-align: right;\n",
       "    }\n",
       "</style>\n",
       "<table border=\"1\" class=\"dataframe\">\n",
       "  <thead>\n",
       "    <tr style=\"text-align: right;\">\n",
       "      <th></th>\n",
       "      <th>제목</th>\n",
       "      <th>개요</th>\n",
       "      <th>효과</th>\n",
       "      <th>썸네일</th>\n",
       "      <th>난이도</th>\n",
       "      <th>자세분류</th>\n",
       "      <th>부위</th>\n",
       "      <th>종류</th>\n",
       "    </tr>\n",
       "  </thead>\n",
       "  <tbody>\n",
       "    <tr>\n",
       "      <th>count</th>\n",
       "      <td>250</td>\n",
       "      <td>250</td>\n",
       "      <td>126</td>\n",
       "      <td>238</td>\n",
       "      <td>238</td>\n",
       "      <td>91</td>\n",
       "      <td>214</td>\n",
       "      <td>250</td>\n",
       "    </tr>\n",
       "    <tr>\n",
       "      <th>unique</th>\n",
       "      <td>249</td>\n",
       "      <td>249</td>\n",
       "      <td>125</td>\n",
       "      <td>238</td>\n",
       "      <td>3</td>\n",
       "      <td>4</td>\n",
       "      <td>32</td>\n",
       "      <td>3</td>\n",
       "    </tr>\n",
       "    <tr>\n",
       "      <th>top</th>\n",
       "      <td>사이드 런지</td>\n",
       "      <td>전완의 바깥쪽 근육을 발달시키는 운동이다. 벤치 가장자리나 무릎 위에 전완부를 고정...</td>\n",
       "      <td>- 옆구리 경락을 자극한다. \\r\\n\\t - 척추의 좌우 균형을 맞춘다.</td>\n",
       "      <td>https://dbscthumb-phinf.pstatic.net/0955_000_1...</td>\n",
       "      <td>초급</td>\n",
       "      <td>누운 자세</td>\n",
       "      <td>복부</td>\n",
       "      <td>근력 운동</td>\n",
       "    </tr>\n",
       "    <tr>\n",
       "      <th>freq</th>\n",
       "      <td>2</td>\n",
       "      <td>2</td>\n",
       "      <td>2</td>\n",
       "      <td>1</td>\n",
       "      <td>159</td>\n",
       "      <td>36</td>\n",
       "      <td>28</td>\n",
       "      <td>124</td>\n",
       "    </tr>\n",
       "  </tbody>\n",
       "</table>\n",
       "</div>"
      ],
      "text/plain": [
       "            제목                                                 개요  \\\n",
       "count      250                                                250   \n",
       "unique     249                                                249   \n",
       "top     사이드 런지  전완의 바깥쪽 근육을 발달시키는 운동이다. 벤치 가장자리나 무릎 위에 전완부를 고정...   \n",
       "freq         2                                                  2   \n",
       "\n",
       "                                              효과  \\\n",
       "count                                        126   \n",
       "unique                                       125   \n",
       "top     - 옆구리 경락을 자극한다. \\r\\n\\t - 척추의 좌우 균형을 맞춘다.   \n",
       "freq                                           2   \n",
       "\n",
       "                                                      썸네일  난이도   자세분류   부위  \\\n",
       "count                                                 238  238     91  214   \n",
       "unique                                                238    3      4   32   \n",
       "top     https://dbscthumb-phinf.pstatic.net/0955_000_1...   초급  누운 자세   복부   \n",
       "freq                                                    1  159     36   28   \n",
       "\n",
       "           종류  \n",
       "count     250  \n",
       "unique      3  \n",
       "top     근력 운동  \n",
       "freq      124  "
      ]
     },
     "execution_count": 17,
     "metadata": {},
     "output_type": "execute_result"
    }
   ],
   "source": [
    "df_all.describe()"
   ]
  },
  {
   "cell_type": "code",
   "execution_count": 18,
   "id": "4343288b",
   "metadata": {},
   "outputs": [],
   "source": [
    "df_all.to_csv(\"df_all_cleaned.csv\", index=False, encoding='utf-8-sig')"
   ]
  },
  {
   "cell_type": "code",
   "execution_count": 19,
   "id": "53aa7389",
   "metadata": {},
   "outputs": [],
   "source": [
    "df_all.describe(include='all').transpose().to_csv(\"df_all_summary.csv\", encoding='utf-8-sig')\n"
   ]
  },
  {
   "cell_type": "code",
   "execution_count": 20,
   "id": "6b2df105",
   "metadata": {},
   "outputs": [
    {
     "name": "stdout",
     "output_type": "stream",
     "text": [
      "           제목                                                 개요   효과  썸네일  \\\n",
      "534     어깨 운동  어깨 운동은 일반적으로 삼각근 운동을 뜻한다. 삼각근은 전면, 측면, 후면으로 나뉘...  NaN  NaN   \n",
      "540     허리 운동  허리 운동, 즉 척추기립근 운동은 넓게는 등 운동에 속한다. 척추기립근은 척추뼈를 ...  NaN  NaN   \n",
      "548    종아리 운동  발을 지탱할 뿐만 아니라 걷거나 뛰는 데 중요한 역할을 하는 근육이 바로 종아리 근...  NaN  NaN   \n",
      "614    아래팔 운동  전완은 아래팔을 뜻한다. 일반적으로 단련하는 운동 부위가 아니라 다소 생소하게 느낄...  NaN  NaN   \n",
      "616   위팔 뒤 운동  팔 윗부분 뒤쪽에 있는 삼두근은 근육의 머릿 부분이 세 갈래로 나뉘어져 있어 이렇게...  NaN  NaN   \n",
      "626     가슴 운동  우리가 쉽게 가슴근육이라고 하는 대흉근은 상부, 중앙, 하부 총 3가지 부위로 나뉘...  NaN  NaN   \n",
      "640     복부 운동  복근은 내장을 보호하고 허리를 강화시키는 근육으로 크게 복직근, 내복사근, 외복사근...  NaN  NaN   \n",
      "716     전신 운동  전신 운동은 시간이 없는 바쁜 사람들에게 빠르고 아주 효과적인 체력 강화 및 다이어...  NaN  NaN   \n",
      "730  허벅지 앞 운동  허벅지, 곧 대퇴부는 전면에 네 가지 근육, 곧 대퇴직근, 내측광근, 외측광근 ,중...  NaN  NaN   \n",
      "738      등 운동  등은 크게 네 가지 근육으로 구성되어 있다. 등에서 가장 넓은 면적을 차지하고 있는...  NaN  NaN   \n",
      "752   위팔 앞 운동  팔 윗부분 앞쪽에 있는 이두근은 근육의 머릿 부분이 두 갈래로 나뉘어져 있어 이렇게...  NaN  NaN   \n",
      "774    엉덩이 운동  엉덩이는 엉덩이 가운데에 위치하며 가장 큰 근육인 대둔근과 위쪽의 중둔근, 소둔근으...  NaN  NaN   \n",
      "\n",
      "     난이도 자세분류     부위     종류  \n",
      "534  NaN  NaN     어깨  근력 운동  \n",
      "540  NaN  NaN     허리  근력 운동  \n",
      "548  NaN  NaN    종아리  근력 운동  \n",
      "614  NaN  NaN    아래팔  근력 운동  \n",
      "616  NaN  NaN   위팔 뒤  근력 운동  \n",
      "626  NaN  NaN     가슴  근력 운동  \n",
      "640  NaN  NaN     복부  근력 운동  \n",
      "716  NaN  NaN     전신  근력 운동  \n",
      "730  NaN  NaN  허벅지 앞  근력 운동  \n",
      "738  NaN  NaN      등  근력 운동  \n",
      "752  NaN  NaN   위팔 앞  근력 운동  \n",
      "774  NaN  NaN    엉덩이  근력 운동  \n"
     ]
    }
   ],
   "source": [
    "no_thumbnail_df = df_all[df_all['썸네일'].isna()]\n",
    "print(no_thumbnail_df)"
   ]
  },
  {
   "cell_type": "code",
   "execution_count": 21,
   "id": "ec9bd0db",
   "metadata": {},
   "outputs": [
    {
     "name": "stdout",
     "output_type": "stream",
     "text": [
      "삭제 전 행 개수: 250\n",
      "삭제 후 행 개수: 238\n"
     ]
    }
   ],
   "source": [
    "print(f\"삭제 전 행 개수: {len(df_all)}\")\n",
    "\n",
    "df_all = df_all[df_all['썸네일'].notna()]\n",
    "\n",
    "print(f\"삭제 후 행 개수: {len(df_all)}\")"
   ]
  },
  {
   "cell_type": "code",
   "execution_count": 22,
   "id": "ea1eb26f",
   "metadata": {},
   "outputs": [],
   "source": [
    "duplicate_mask = df_all.duplicated(keep=False)\n",
    "duplicates = df_all[duplicate_mask]"
   ]
  },
  {
   "cell_type": "code",
   "execution_count": 23,
   "id": "17e58f84",
   "metadata": {},
   "outputs": [
    {
     "name": "stdout",
     "output_type": "stream",
     "text": [
      "유니크한 행 개수: 238\n"
     ]
    }
   ],
   "source": [
    "unique_count = len(df_all.drop_duplicates())\n",
    "print(f\"유니크한 행 개수: {unique_count}\")"
   ]
  },
  {
   "cell_type": "code",
   "execution_count": 24,
   "id": "94dcddf7",
   "metadata": {},
   "outputs": [],
   "source": [
    "df_all.to_csv(\"cleaned_naver_terms.csv\", index=False, encoding=\"utf-8-sig\")"
   ]
  },
  {
   "cell_type": "code",
   "execution_count": 25,
   "id": "684714c4",
   "metadata": {},
   "outputs": [
    {
     "data": {
      "text/html": [
       "<div>\n",
       "<style scoped>\n",
       "    .dataframe tbody tr th:only-of-type {\n",
       "        vertical-align: middle;\n",
       "    }\n",
       "\n",
       "    .dataframe tbody tr th {\n",
       "        vertical-align: top;\n",
       "    }\n",
       "\n",
       "    .dataframe thead th {\n",
       "        text-align: right;\n",
       "    }\n",
       "</style>\n",
       "<table border=\"1\" class=\"dataframe\">\n",
       "  <thead>\n",
       "    <tr style=\"text-align: right;\">\n",
       "      <th></th>\n",
       "      <th>제목</th>\n",
       "      <th>개요</th>\n",
       "      <th>효과</th>\n",
       "      <th>썸네일</th>\n",
       "      <th>난이도</th>\n",
       "      <th>자세분류</th>\n",
       "      <th>부위</th>\n",
       "      <th>종류</th>\n",
       "    </tr>\n",
       "  </thead>\n",
       "  <tbody>\n",
       "    <tr>\n",
       "      <th>0</th>\n",
       "      <td>고양이 자세</td>\n",
       "      <td>고양이 자세는 고양이의 다양한 자세를 본떠 만든 동작으로 척추의 S자 굴곡 유지에 ...</td>\n",
       "      <td>- 척추에 탄력과 유연성을 길러준다. \\r\\n\\t - 소화를 돕는다.        ...</td>\n",
       "      <td>https://dbscthumb-phinf.pstatic.net/0955_000_1...</td>\n",
       "      <td>초급</td>\n",
       "      <td>앉은 자세</td>\n",
       "      <td>복부</td>\n",
       "      <td>요가</td>\n",
       "    </tr>\n",
       "    <tr>\n",
       "      <th>2</th>\n",
       "      <td>발끝 치기</td>\n",
       "      <td>발끝 치기는 발끝의 혈액순환을 도와주는 자세로, 발을 비롯한 하체의 혈액순환을 원활...</td>\n",
       "      <td>- 발과 다리의 부종을 완화하는 효과가 있다. \\r\\n\\t - 혈액순환을 촉진시킨다...</td>\n",
       "      <td>https://dbscthumb-phinf.pstatic.net/0955_000_1...</td>\n",
       "      <td>초급</td>\n",
       "      <td>앉은 자세</td>\n",
       "      <td>발</td>\n",
       "      <td>요가</td>\n",
       "    </tr>\n",
       "    <tr>\n",
       "      <th>4</th>\n",
       "      <td>케겔 운동</td>\n",
       "      <td>케겔 운동은 질 주위 근육을 조였다 펴기를 반복하는 골반근육 강화 운동으로, 순산에...</td>\n",
       "      <td>- 자연 분만이 쉽도록 해준다. \\r\\n\\t - 요실금에 도움이 된다.</td>\n",
       "      <td>https://dbscthumb-phinf.pstatic.net/0955_000_1...</td>\n",
       "      <td>초급</td>\n",
       "      <td>선 자세</td>\n",
       "      <td>NaN</td>\n",
       "      <td>요가</td>\n",
       "    </tr>\n",
       "    <tr>\n",
       "      <th>6</th>\n",
       "      <td>바람 빼기 자세</td>\n",
       "      <td>바람 빼기 자세는 일명 방귀 자세라고도 한다. 허리 통증을 완화시키고, 체내 가스를...</td>\n",
       "      <td>- 숙변을 제거한다. \\r\\n\\t - 요통을 완화시켜주는 효과가 있다. \\r\\n\\t...</td>\n",
       "      <td>https://dbscthumb-phinf.pstatic.net/0955_000_1...</td>\n",
       "      <td>초급</td>\n",
       "      <td>누운 자세</td>\n",
       "      <td>NaN</td>\n",
       "      <td>요가</td>\n",
       "    </tr>\n",
       "    <tr>\n",
       "      <th>8</th>\n",
       "      <td>코브라 자세</td>\n",
       "      <td>코브라 자세는 척추를 교정하며 혈액순환을 원활히 해주는 효과가 있다. 전신의 군살,...</td>\n",
       "      <td>- 혈액순환을 돕는다.\\r\\n\\t - 전신의 군살, 특히 등과 배, 허리를 날씬하게...</td>\n",
       "      <td>https://dbscthumb-phinf.pstatic.net/0955_000_1...</td>\n",
       "      <td>초급</td>\n",
       "      <td>누운 자세</td>\n",
       "      <td>허리</td>\n",
       "      <td>요가</td>\n",
       "    </tr>\n",
       "  </tbody>\n",
       "</table>\n",
       "</div>"
      ],
      "text/plain": [
       "         제목                                                 개요  \\\n",
       "0    고양이 자세  고양이 자세는 고양이의 다양한 자세를 본떠 만든 동작으로 척추의 S자 굴곡 유지에 ...   \n",
       "2     발끝 치기  발끝 치기는 발끝의 혈액순환을 도와주는 자세로, 발을 비롯한 하체의 혈액순환을 원활...   \n",
       "4     케겔 운동  케겔 운동은 질 주위 근육을 조였다 펴기를 반복하는 골반근육 강화 운동으로, 순산에...   \n",
       "6  바람 빼기 자세  바람 빼기 자세는 일명 방귀 자세라고도 한다. 허리 통증을 완화시키고, 체내 가스를...   \n",
       "8    코브라 자세  코브라 자세는 척추를 교정하며 혈액순환을 원활히 해주는 효과가 있다. 전신의 군살,...   \n",
       "\n",
       "                                                  효과  \\\n",
       "0  - 척추에 탄력과 유연성을 길러준다. \\r\\n\\t - 소화를 돕는다.        ...   \n",
       "2  - 발과 다리의 부종을 완화하는 효과가 있다. \\r\\n\\t - 혈액순환을 촉진시킨다...   \n",
       "4            - 자연 분만이 쉽도록 해준다. \\r\\n\\t - 요실금에 도움이 된다.   \n",
       "6  - 숙변을 제거한다. \\r\\n\\t - 요통을 완화시켜주는 효과가 있다. \\r\\n\\t...   \n",
       "8  - 혈액순환을 돕는다.\\r\\n\\t - 전신의 군살, 특히 등과 배, 허리를 날씬하게...   \n",
       "\n",
       "                                                 썸네일 난이도   자세분류   부위  종류  \n",
       "0  https://dbscthumb-phinf.pstatic.net/0955_000_1...  초급  앉은 자세   복부  요가  \n",
       "2  https://dbscthumb-phinf.pstatic.net/0955_000_1...  초급  앉은 자세    발  요가  \n",
       "4  https://dbscthumb-phinf.pstatic.net/0955_000_1...  초급   선 자세  NaN  요가  \n",
       "6  https://dbscthumb-phinf.pstatic.net/0955_000_1...  초급  누운 자세  NaN  요가  \n",
       "8  https://dbscthumb-phinf.pstatic.net/0955_000_1...  초급  누운 자세   허리  요가  "
      ]
     },
     "execution_count": 25,
     "metadata": {},
     "output_type": "execute_result"
    }
   ],
   "source": [
    "df_all['효과'] = df_all['효과'].str.replace('\"', '', regex=False)\n",
    "df_all.head()"
   ]
  },
  {
   "cell_type": "code",
   "execution_count": 27,
   "id": "ddd1b6e2",
   "metadata": {},
   "outputs": [
    {
     "data": {
      "text/html": [
       "<div>\n",
       "<style scoped>\n",
       "    .dataframe tbody tr th:only-of-type {\n",
       "        vertical-align: middle;\n",
       "    }\n",
       "\n",
       "    .dataframe tbody tr th {\n",
       "        vertical-align: top;\n",
       "    }\n",
       "\n",
       "    .dataframe thead th {\n",
       "        text-align: right;\n",
       "    }\n",
       "</style>\n",
       "<table border=\"1\" class=\"dataframe\">\n",
       "  <thead>\n",
       "    <tr style=\"text-align: right;\">\n",
       "      <th></th>\n",
       "      <th>제목</th>\n",
       "      <th>개요</th>\n",
       "      <th>효과</th>\n",
       "      <th>썸네일</th>\n",
       "      <th>난이도</th>\n",
       "      <th>자세분류</th>\n",
       "      <th>부위</th>\n",
       "      <th>종류</th>\n",
       "    </tr>\n",
       "  </thead>\n",
       "  <tbody>\n",
       "    <tr>\n",
       "      <th>0</th>\n",
       "      <td>고양이 자세</td>\n",
       "      <td>고양이 자세는 고양이의 다양한 자세를 본떠 만든 동작으로 척추의 S자 굴곡 유지에 ...</td>\n",
       "      <td>- 척추에 탄력과 유연성을 길러준다.   - 소화를 돕는다.             ...</td>\n",
       "      <td>https://dbscthumb-phinf.pstatic.net/0955_000_1...</td>\n",
       "      <td>초급</td>\n",
       "      <td>앉은 자세</td>\n",
       "      <td>복부</td>\n",
       "      <td>요가</td>\n",
       "    </tr>\n",
       "    <tr>\n",
       "      <th>2</th>\n",
       "      <td>발끝 치기</td>\n",
       "      <td>발끝 치기는 발끝의 혈액순환을 도와주는 자세로, 발을 비롯한 하체의 혈액순환을 원활...</td>\n",
       "      <td>- 발과 다리의 부종을 완화하는 효과가 있다.   - 혈액순환을 촉진시킨다.   -...</td>\n",
       "      <td>https://dbscthumb-phinf.pstatic.net/0955_000_1...</td>\n",
       "      <td>초급</td>\n",
       "      <td>앉은 자세</td>\n",
       "      <td>발</td>\n",
       "      <td>요가</td>\n",
       "    </tr>\n",
       "    <tr>\n",
       "      <th>4</th>\n",
       "      <td>케겔 운동</td>\n",
       "      <td>케겔 운동은 질 주위 근육을 조였다 펴기를 반복하는 골반근육 강화 운동으로, 순산에...</td>\n",
       "      <td>- 자연 분만이 쉽도록 해준다.   - 요실금에 도움이 된다.</td>\n",
       "      <td>https://dbscthumb-phinf.pstatic.net/0955_000_1...</td>\n",
       "      <td>초급</td>\n",
       "      <td>선 자세</td>\n",
       "      <td>NaN</td>\n",
       "      <td>요가</td>\n",
       "    </tr>\n",
       "    <tr>\n",
       "      <th>6</th>\n",
       "      <td>바람 빼기 자세</td>\n",
       "      <td>바람 빼기 자세는 일명 방귀 자세라고도 한다. 허리 통증을 완화시키고, 체내 가스를...</td>\n",
       "      <td>- 숙변을 제거한다.   - 요통을 완화시켜주는 효과가 있다.   - 가스를 방출한다.</td>\n",
       "      <td>https://dbscthumb-phinf.pstatic.net/0955_000_1...</td>\n",
       "      <td>초급</td>\n",
       "      <td>누운 자세</td>\n",
       "      <td>NaN</td>\n",
       "      <td>요가</td>\n",
       "    </tr>\n",
       "    <tr>\n",
       "      <th>8</th>\n",
       "      <td>코브라 자세</td>\n",
       "      <td>코브라 자세는 척추를 교정하며 혈액순환을 원활히 해주는 효과가 있다. 전신의 군살,...</td>\n",
       "      <td>- 혈액순환을 돕는다.  - 전신의 군살, 특히 등과 배, 허리를 날씬하게 만든다....</td>\n",
       "      <td>https://dbscthumb-phinf.pstatic.net/0955_000_1...</td>\n",
       "      <td>초급</td>\n",
       "      <td>누운 자세</td>\n",
       "      <td>허리</td>\n",
       "      <td>요가</td>\n",
       "    </tr>\n",
       "  </tbody>\n",
       "</table>\n",
       "</div>"
      ],
      "text/plain": [
       "         제목                                                 개요  \\\n",
       "0    고양이 자세  고양이 자세는 고양이의 다양한 자세를 본떠 만든 동작으로 척추의 S자 굴곡 유지에 ...   \n",
       "2     발끝 치기  발끝 치기는 발끝의 혈액순환을 도와주는 자세로, 발을 비롯한 하체의 혈액순환을 원활...   \n",
       "4     케겔 운동  케겔 운동은 질 주위 근육을 조였다 펴기를 반복하는 골반근육 강화 운동으로, 순산에...   \n",
       "6  바람 빼기 자세  바람 빼기 자세는 일명 방귀 자세라고도 한다. 허리 통증을 완화시키고, 체내 가스를...   \n",
       "8    코브라 자세  코브라 자세는 척추를 교정하며 혈액순환을 원활히 해주는 효과가 있다. 전신의 군살,...   \n",
       "\n",
       "                                                  효과  \\\n",
       "0  - 척추에 탄력과 유연성을 길러준다.   - 소화를 돕는다.             ...   \n",
       "2  - 발과 다리의 부종을 완화하는 효과가 있다.   - 혈액순환을 촉진시킨다.   -...   \n",
       "4                 - 자연 분만이 쉽도록 해준다.   - 요실금에 도움이 된다.   \n",
       "6   - 숙변을 제거한다.   - 요통을 완화시켜주는 효과가 있다.   - 가스를 방출한다.   \n",
       "8  - 혈액순환을 돕는다.  - 전신의 군살, 특히 등과 배, 허리를 날씬하게 만든다....   \n",
       "\n",
       "                                                 썸네일 난이도   자세분류   부위  종류  \n",
       "0  https://dbscthumb-phinf.pstatic.net/0955_000_1...  초급  앉은 자세   복부  요가  \n",
       "2  https://dbscthumb-phinf.pstatic.net/0955_000_1...  초급  앉은 자세    발  요가  \n",
       "4  https://dbscthumb-phinf.pstatic.net/0955_000_1...  초급   선 자세  NaN  요가  \n",
       "6  https://dbscthumb-phinf.pstatic.net/0955_000_1...  초급  누운 자세  NaN  요가  \n",
       "8  https://dbscthumb-phinf.pstatic.net/0955_000_1...  초급  누운 자세   허리  요가  "
      ]
     },
     "execution_count": 27,
     "metadata": {},
     "output_type": "execute_result"
    }
   ],
   "source": [
    "df_all['효과'] = df_all['효과'].str.replace('\\r\\n\\t', ' ', regex=False)\n",
    "df_all.head()"
   ]
  },
  {
   "cell_type": "code",
   "execution_count": 28,
   "id": "62d83b57",
   "metadata": {},
   "outputs": [
    {
     "data": {
      "text/html": [
       "<div>\n",
       "<style scoped>\n",
       "    .dataframe tbody tr th:only-of-type {\n",
       "        vertical-align: middle;\n",
       "    }\n",
       "\n",
       "    .dataframe tbody tr th {\n",
       "        vertical-align: top;\n",
       "    }\n",
       "\n",
       "    .dataframe thead th {\n",
       "        text-align: right;\n",
       "    }\n",
       "</style>\n",
       "<table border=\"1\" class=\"dataframe\">\n",
       "  <thead>\n",
       "    <tr style=\"text-align: right;\">\n",
       "      <th></th>\n",
       "      <th>제목</th>\n",
       "      <th>개요</th>\n",
       "      <th>효과</th>\n",
       "      <th>썸네일</th>\n",
       "      <th>난이도</th>\n",
       "      <th>자세분류</th>\n",
       "      <th>부위</th>\n",
       "      <th>종류</th>\n",
       "    </tr>\n",
       "  </thead>\n",
       "  <tbody>\n",
       "    <tr>\n",
       "      <th>0</th>\n",
       "      <td>고양이 자세</td>\n",
       "      <td>고양이 자세는 고양이의 다양한 자세를 본떠 만든 동작으로 척추의 S자 굴곡 유지에 ...</td>\n",
       "      <td>척추에 탄력과 유연성을 길러준다. 소화를 돕는다. 어깨가 유연해진다.</td>\n",
       "      <td>https://dbscthumb-phinf.pstatic.net/0955_000_1...</td>\n",
       "      <td>초급</td>\n",
       "      <td>앉은 자세</td>\n",
       "      <td>복부</td>\n",
       "      <td>요가</td>\n",
       "    </tr>\n",
       "    <tr>\n",
       "      <th>2</th>\n",
       "      <td>발끝 치기</td>\n",
       "      <td>발끝 치기는 발끝의 혈액순환을 도와주는 자세로, 발을 비롯한 하체의 혈액순환을 원활...</td>\n",
       "      <td>발과 다리의 부종을 완화하는 효과가 있다. 혈액순환을 촉진시킨다. 허벅지를 날씬하게...</td>\n",
       "      <td>https://dbscthumb-phinf.pstatic.net/0955_000_1...</td>\n",
       "      <td>초급</td>\n",
       "      <td>앉은 자세</td>\n",
       "      <td>발</td>\n",
       "      <td>요가</td>\n",
       "    </tr>\n",
       "    <tr>\n",
       "      <th>4</th>\n",
       "      <td>케겔 운동</td>\n",
       "      <td>케겔 운동은 질 주위 근육을 조였다 펴기를 반복하는 골반근육 강화 운동으로, 순산에...</td>\n",
       "      <td>자연 분만이 쉽도록 해준다. 요실금에 도움이 된다.</td>\n",
       "      <td>https://dbscthumb-phinf.pstatic.net/0955_000_1...</td>\n",
       "      <td>초급</td>\n",
       "      <td>선 자세</td>\n",
       "      <td>NaN</td>\n",
       "      <td>요가</td>\n",
       "    </tr>\n",
       "    <tr>\n",
       "      <th>6</th>\n",
       "      <td>바람 빼기 자세</td>\n",
       "      <td>바람 빼기 자세는 일명 방귀 자세라고도 한다. 허리 통증을 완화시키고, 체내 가스를...</td>\n",
       "      <td>숙변을 제거한다. 요통을 완화시켜주는 효과가 있다. 가스를 방출한다.</td>\n",
       "      <td>https://dbscthumb-phinf.pstatic.net/0955_000_1...</td>\n",
       "      <td>초급</td>\n",
       "      <td>누운 자세</td>\n",
       "      <td>NaN</td>\n",
       "      <td>요가</td>\n",
       "    </tr>\n",
       "    <tr>\n",
       "      <th>8</th>\n",
       "      <td>코브라 자세</td>\n",
       "      <td>코브라 자세는 척추를 교정하며 혈액순환을 원활히 해주는 효과가 있다. 전신의 군살,...</td>\n",
       "      <td>혈액순환을 돕는다. 전신의 군살, 특히 등과 배, 허리를 날씬하게 만든다. 어깨, ...</td>\n",
       "      <td>https://dbscthumb-phinf.pstatic.net/0955_000_1...</td>\n",
       "      <td>초급</td>\n",
       "      <td>누운 자세</td>\n",
       "      <td>허리</td>\n",
       "      <td>요가</td>\n",
       "    </tr>\n",
       "  </tbody>\n",
       "</table>\n",
       "</div>"
      ],
      "text/plain": [
       "         제목                                                 개요  \\\n",
       "0    고양이 자세  고양이 자세는 고양이의 다양한 자세를 본떠 만든 동작으로 척추의 S자 굴곡 유지에 ...   \n",
       "2     발끝 치기  발끝 치기는 발끝의 혈액순환을 도와주는 자세로, 발을 비롯한 하체의 혈액순환을 원활...   \n",
       "4     케겔 운동  케겔 운동은 질 주위 근육을 조였다 펴기를 반복하는 골반근육 강화 운동으로, 순산에...   \n",
       "6  바람 빼기 자세  바람 빼기 자세는 일명 방귀 자세라고도 한다. 허리 통증을 완화시키고, 체내 가스를...   \n",
       "8    코브라 자세  코브라 자세는 척추를 교정하며 혈액순환을 원활히 해주는 효과가 있다. 전신의 군살,...   \n",
       "\n",
       "                                                  효과  \\\n",
       "0             척추에 탄력과 유연성을 길러준다. 소화를 돕는다. 어깨가 유연해진다.   \n",
       "2  발과 다리의 부종을 완화하는 효과가 있다. 혈액순환을 촉진시킨다. 허벅지를 날씬하게...   \n",
       "4                       자연 분만이 쉽도록 해준다. 요실금에 도움이 된다.   \n",
       "6             숙변을 제거한다. 요통을 완화시켜주는 효과가 있다. 가스를 방출한다.   \n",
       "8  혈액순환을 돕는다. 전신의 군살, 특히 등과 배, 허리를 날씬하게 만든다. 어깨, ...   \n",
       "\n",
       "                                                 썸네일 난이도   자세분류   부위  종류  \n",
       "0  https://dbscthumb-phinf.pstatic.net/0955_000_1...  초급  앉은 자세   복부  요가  \n",
       "2  https://dbscthumb-phinf.pstatic.net/0955_000_1...  초급  앉은 자세    발  요가  \n",
       "4  https://dbscthumb-phinf.pstatic.net/0955_000_1...  초급   선 자세  NaN  요가  \n",
       "6  https://dbscthumb-phinf.pstatic.net/0955_000_1...  초급  누운 자세  NaN  요가  \n",
       "8  https://dbscthumb-phinf.pstatic.net/0955_000_1...  초급  누운 자세   허리  요가  "
      ]
     },
     "execution_count": 28,
     "metadata": {},
     "output_type": "execute_result"
    }
   ],
   "source": [
    "df_all['효과'] = df_all['효과'].str.replace(r'\\s*-\\s*', ' ', regex=True).str.strip()\n",
    "df_all.head()"
   ]
  },
  {
   "cell_type": "code",
   "execution_count": 29,
   "id": "9bfed00a",
   "metadata": {},
   "outputs": [],
   "source": [
    "df_all['개요_효과_합침'] = df_all['개요'].fillna('') + ' ' + df_all['효과'].fillna('')\n",
    "df_all['개요_효과_합침'] = df_all['개요_효과_합침'].str.strip()  # 혹시 앞뒤 공백 제거"
   ]
  },
  {
   "cell_type": "code",
   "execution_count": 30,
   "id": "18d7df42",
   "metadata": {},
   "outputs": [
    {
     "data": {
      "text/html": [
       "<div>\n",
       "<style scoped>\n",
       "    .dataframe tbody tr th:only-of-type {\n",
       "        vertical-align: middle;\n",
       "    }\n",
       "\n",
       "    .dataframe tbody tr th {\n",
       "        vertical-align: top;\n",
       "    }\n",
       "\n",
       "    .dataframe thead th {\n",
       "        text-align: right;\n",
       "    }\n",
       "</style>\n",
       "<table border=\"1\" class=\"dataframe\">\n",
       "  <thead>\n",
       "    <tr style=\"text-align: right;\">\n",
       "      <th></th>\n",
       "      <th>제목</th>\n",
       "      <th>개요</th>\n",
       "      <th>효과</th>\n",
       "      <th>썸네일</th>\n",
       "      <th>난이도</th>\n",
       "      <th>자세분류</th>\n",
       "      <th>부위</th>\n",
       "      <th>종류</th>\n",
       "      <th>개요_효과_합침</th>\n",
       "    </tr>\n",
       "  </thead>\n",
       "  <tbody>\n",
       "    <tr>\n",
       "      <th>0</th>\n",
       "      <td>고양이 자세</td>\n",
       "      <td>고양이 자세는 고양이의 다양한 자세를 본떠 만든 동작으로 척추의 S자 굴곡 유지에 ...</td>\n",
       "      <td>척추에 탄력과 유연성을 길러준다. 소화를 돕는다. 어깨가 유연해진다.</td>\n",
       "      <td>https://dbscthumb-phinf.pstatic.net/0955_000_1...</td>\n",
       "      <td>초급</td>\n",
       "      <td>앉은 자세</td>\n",
       "      <td>복부</td>\n",
       "      <td>요가</td>\n",
       "      <td>고양이 자세는 고양이의 다양한 자세를 본떠 만든 동작으로 척추의 S자 굴곡 유지에 ...</td>\n",
       "    </tr>\n",
       "    <tr>\n",
       "      <th>2</th>\n",
       "      <td>발끝 치기</td>\n",
       "      <td>발끝 치기는 발끝의 혈액순환을 도와주는 자세로, 발을 비롯한 하체의 혈액순환을 원활...</td>\n",
       "      <td>발과 다리의 부종을 완화하는 효과가 있다. 혈액순환을 촉진시킨다. 허벅지를 날씬하게...</td>\n",
       "      <td>https://dbscthumb-phinf.pstatic.net/0955_000_1...</td>\n",
       "      <td>초급</td>\n",
       "      <td>앉은 자세</td>\n",
       "      <td>발</td>\n",
       "      <td>요가</td>\n",
       "      <td>발끝 치기는 발끝의 혈액순환을 도와주는 자세로, 발을 비롯한 하체의 혈액순환을 원활...</td>\n",
       "    </tr>\n",
       "    <tr>\n",
       "      <th>4</th>\n",
       "      <td>케겔 운동</td>\n",
       "      <td>케겔 운동은 질 주위 근육을 조였다 펴기를 반복하는 골반근육 강화 운동으로, 순산에...</td>\n",
       "      <td>자연 분만이 쉽도록 해준다. 요실금에 도움이 된다.</td>\n",
       "      <td>https://dbscthumb-phinf.pstatic.net/0955_000_1...</td>\n",
       "      <td>초급</td>\n",
       "      <td>선 자세</td>\n",
       "      <td>NaN</td>\n",
       "      <td>요가</td>\n",
       "      <td>케겔 운동은 질 주위 근육을 조였다 펴기를 반복하는 골반근육 강화 운동으로, 순산에...</td>\n",
       "    </tr>\n",
       "    <tr>\n",
       "      <th>6</th>\n",
       "      <td>바람 빼기 자세</td>\n",
       "      <td>바람 빼기 자세는 일명 방귀 자세라고도 한다. 허리 통증을 완화시키고, 체내 가스를...</td>\n",
       "      <td>숙변을 제거한다. 요통을 완화시켜주는 효과가 있다. 가스를 방출한다.</td>\n",
       "      <td>https://dbscthumb-phinf.pstatic.net/0955_000_1...</td>\n",
       "      <td>초급</td>\n",
       "      <td>누운 자세</td>\n",
       "      <td>NaN</td>\n",
       "      <td>요가</td>\n",
       "      <td>바람 빼기 자세는 일명 방귀 자세라고도 한다. 허리 통증을 완화시키고, 체내 가스를...</td>\n",
       "    </tr>\n",
       "    <tr>\n",
       "      <th>8</th>\n",
       "      <td>코브라 자세</td>\n",
       "      <td>코브라 자세는 척추를 교정하며 혈액순환을 원활히 해주는 효과가 있다. 전신의 군살,...</td>\n",
       "      <td>혈액순환을 돕는다. 전신의 군살, 특히 등과 배, 허리를 날씬하게 만든다. 어깨, ...</td>\n",
       "      <td>https://dbscthumb-phinf.pstatic.net/0955_000_1...</td>\n",
       "      <td>초급</td>\n",
       "      <td>누운 자세</td>\n",
       "      <td>허리</td>\n",
       "      <td>요가</td>\n",
       "      <td>코브라 자세는 척추를 교정하며 혈액순환을 원활히 해주는 효과가 있다. 전신의 군살,...</td>\n",
       "    </tr>\n",
       "  </tbody>\n",
       "</table>\n",
       "</div>"
      ],
      "text/plain": [
       "         제목                                                 개요  \\\n",
       "0    고양이 자세  고양이 자세는 고양이의 다양한 자세를 본떠 만든 동작으로 척추의 S자 굴곡 유지에 ...   \n",
       "2     발끝 치기  발끝 치기는 발끝의 혈액순환을 도와주는 자세로, 발을 비롯한 하체의 혈액순환을 원활...   \n",
       "4     케겔 운동  케겔 운동은 질 주위 근육을 조였다 펴기를 반복하는 골반근육 강화 운동으로, 순산에...   \n",
       "6  바람 빼기 자세  바람 빼기 자세는 일명 방귀 자세라고도 한다. 허리 통증을 완화시키고, 체내 가스를...   \n",
       "8    코브라 자세  코브라 자세는 척추를 교정하며 혈액순환을 원활히 해주는 효과가 있다. 전신의 군살,...   \n",
       "\n",
       "                                                  효과  \\\n",
       "0             척추에 탄력과 유연성을 길러준다. 소화를 돕는다. 어깨가 유연해진다.   \n",
       "2  발과 다리의 부종을 완화하는 효과가 있다. 혈액순환을 촉진시킨다. 허벅지를 날씬하게...   \n",
       "4                       자연 분만이 쉽도록 해준다. 요실금에 도움이 된다.   \n",
       "6             숙변을 제거한다. 요통을 완화시켜주는 효과가 있다. 가스를 방출한다.   \n",
       "8  혈액순환을 돕는다. 전신의 군살, 특히 등과 배, 허리를 날씬하게 만든다. 어깨, ...   \n",
       "\n",
       "                                                 썸네일 난이도   자세분류   부위  종류  \\\n",
       "0  https://dbscthumb-phinf.pstatic.net/0955_000_1...  초급  앉은 자세   복부  요가   \n",
       "2  https://dbscthumb-phinf.pstatic.net/0955_000_1...  초급  앉은 자세    발  요가   \n",
       "4  https://dbscthumb-phinf.pstatic.net/0955_000_1...  초급   선 자세  NaN  요가   \n",
       "6  https://dbscthumb-phinf.pstatic.net/0955_000_1...  초급  누운 자세  NaN  요가   \n",
       "8  https://dbscthumb-phinf.pstatic.net/0955_000_1...  초급  누운 자세   허리  요가   \n",
       "\n",
       "                                            개요_효과_합침  \n",
       "0  고양이 자세는 고양이의 다양한 자세를 본떠 만든 동작으로 척추의 S자 굴곡 유지에 ...  \n",
       "2  발끝 치기는 발끝의 혈액순환을 도와주는 자세로, 발을 비롯한 하체의 혈액순환을 원활...  \n",
       "4  케겔 운동은 질 주위 근육을 조였다 펴기를 반복하는 골반근육 강화 운동으로, 순산에...  \n",
       "6  바람 빼기 자세는 일명 방귀 자세라고도 한다. 허리 통증을 완화시키고, 체내 가스를...  \n",
       "8  코브라 자세는 척추를 교정하며 혈액순환을 원활히 해주는 효과가 있다. 전신의 군살,...  "
      ]
     },
     "execution_count": 30,
     "metadata": {},
     "output_type": "execute_result"
    }
   ],
   "source": [
    "df_all.head()"
   ]
  },
  {
   "cell_type": "code",
   "execution_count": 31,
   "id": "b5b6e200",
   "metadata": {},
   "outputs": [],
   "source": [
    "df_all.to_csv(\"df_all_with_summary.csv\", index=False, encoding=\"utf-8-sig\")\n"
   ]
  },
  {
   "cell_type": "code",
   "execution_count": 32,
   "id": "53343c21",
   "metadata": {},
   "outputs": [
    {
     "data": {
      "text/html": [
       "<div>\n",
       "<style scoped>\n",
       "    .dataframe tbody tr th:only-of-type {\n",
       "        vertical-align: middle;\n",
       "    }\n",
       "\n",
       "    .dataframe tbody tr th {\n",
       "        vertical-align: top;\n",
       "    }\n",
       "\n",
       "    .dataframe thead th {\n",
       "        text-align: right;\n",
       "    }\n",
       "</style>\n",
       "<table border=\"1\" class=\"dataframe\">\n",
       "  <thead>\n",
       "    <tr style=\"text-align: right;\">\n",
       "      <th></th>\n",
       "      <th>제목</th>\n",
       "      <th>썸네일</th>\n",
       "      <th>난이도</th>\n",
       "      <th>자세분류</th>\n",
       "      <th>부위</th>\n",
       "      <th>종류</th>\n",
       "      <th>개요_효과_합침</th>\n",
       "    </tr>\n",
       "  </thead>\n",
       "  <tbody>\n",
       "    <tr>\n",
       "      <th>0</th>\n",
       "      <td>고양이 자세</td>\n",
       "      <td>https://dbscthumb-phinf.pstatic.net/0955_000_1...</td>\n",
       "      <td>초급</td>\n",
       "      <td>앉은 자세</td>\n",
       "      <td>복부</td>\n",
       "      <td>요가</td>\n",
       "      <td>고양이 자세는 고양이의 다양한 자세를 본떠 만든 동작으로 척추의 S자 굴곡 유지에 ...</td>\n",
       "    </tr>\n",
       "    <tr>\n",
       "      <th>2</th>\n",
       "      <td>발끝 치기</td>\n",
       "      <td>https://dbscthumb-phinf.pstatic.net/0955_000_1...</td>\n",
       "      <td>초급</td>\n",
       "      <td>앉은 자세</td>\n",
       "      <td>발</td>\n",
       "      <td>요가</td>\n",
       "      <td>발끝 치기는 발끝의 혈액순환을 도와주는 자세로, 발을 비롯한 하체의 혈액순환을 원활...</td>\n",
       "    </tr>\n",
       "    <tr>\n",
       "      <th>4</th>\n",
       "      <td>케겔 운동</td>\n",
       "      <td>https://dbscthumb-phinf.pstatic.net/0955_000_1...</td>\n",
       "      <td>초급</td>\n",
       "      <td>선 자세</td>\n",
       "      <td>NaN</td>\n",
       "      <td>요가</td>\n",
       "      <td>케겔 운동은 질 주위 근육을 조였다 펴기를 반복하는 골반근육 강화 운동으로, 순산에...</td>\n",
       "    </tr>\n",
       "    <tr>\n",
       "      <th>6</th>\n",
       "      <td>바람 빼기 자세</td>\n",
       "      <td>https://dbscthumb-phinf.pstatic.net/0955_000_1...</td>\n",
       "      <td>초급</td>\n",
       "      <td>누운 자세</td>\n",
       "      <td>NaN</td>\n",
       "      <td>요가</td>\n",
       "      <td>바람 빼기 자세는 일명 방귀 자세라고도 한다. 허리 통증을 완화시키고, 체내 가스를...</td>\n",
       "    </tr>\n",
       "    <tr>\n",
       "      <th>8</th>\n",
       "      <td>코브라 자세</td>\n",
       "      <td>https://dbscthumb-phinf.pstatic.net/0955_000_1...</td>\n",
       "      <td>초급</td>\n",
       "      <td>누운 자세</td>\n",
       "      <td>허리</td>\n",
       "      <td>요가</td>\n",
       "      <td>코브라 자세는 척추를 교정하며 혈액순환을 원활히 해주는 효과가 있다. 전신의 군살,...</td>\n",
       "    </tr>\n",
       "  </tbody>\n",
       "</table>\n",
       "</div>"
      ],
      "text/plain": [
       "         제목                                                썸네일 난이도   자세분류  \\\n",
       "0    고양이 자세  https://dbscthumb-phinf.pstatic.net/0955_000_1...  초급  앉은 자세   \n",
       "2     발끝 치기  https://dbscthumb-phinf.pstatic.net/0955_000_1...  초급  앉은 자세   \n",
       "4     케겔 운동  https://dbscthumb-phinf.pstatic.net/0955_000_1...  초급   선 자세   \n",
       "6  바람 빼기 자세  https://dbscthumb-phinf.pstatic.net/0955_000_1...  초급  누운 자세   \n",
       "8    코브라 자세  https://dbscthumb-phinf.pstatic.net/0955_000_1...  초급  누운 자세   \n",
       "\n",
       "    부위  종류                                           개요_효과_합침  \n",
       "0   복부  요가  고양이 자세는 고양이의 다양한 자세를 본떠 만든 동작으로 척추의 S자 굴곡 유지에 ...  \n",
       "2    발  요가  발끝 치기는 발끝의 혈액순환을 도와주는 자세로, 발을 비롯한 하체의 혈액순환을 원활...  \n",
       "4  NaN  요가  케겔 운동은 질 주위 근육을 조였다 펴기를 반복하는 골반근육 강화 운동으로, 순산에...  \n",
       "6  NaN  요가  바람 빼기 자세는 일명 방귀 자세라고도 한다. 허리 통증을 완화시키고, 체내 가스를...  \n",
       "8   허리  요가  코브라 자세는 척추를 교정하며 혈액순환을 원활히 해주는 효과가 있다. 전신의 군살,...  "
      ]
     },
     "execution_count": 32,
     "metadata": {},
     "output_type": "execute_result"
    }
   ],
   "source": [
    "df_all = df_all.drop(columns=[\"개요\", \"효과\"])\n",
    "df_all.head()"
   ]
  },
  {
   "cell_type": "code",
   "execution_count": 33,
   "id": "259da90d",
   "metadata": {},
   "outputs": [],
   "source": [
    "df_all.to_csv(\"df_all_with_summary.csv\", index=False, encoding=\"utf-8-sig\")"
   ]
  },
  {
   "cell_type": "code",
   "execution_count": 38,
   "id": "06d571c1",
   "metadata": {},
   "outputs": [
    {
     "data": {
      "text/plain": [
       "부위\n",
       "복부                                                                                                  27\n",
       "가슴                                                                                                  14\n",
       "허리                                                                                                  13\n",
       "전신                                                                                                  12\n",
       "어깨                                                                                                  12\n",
       "등                                                                                                   12\n",
       "위팔 앞                                                                                                11\n",
       "허벅지 앞                                                                                               11\n",
       "엉덩이                                                                                                 10\n",
       "허벅지                                                                                                  9\n",
       "다리                                                                                                   8\n",
       "아래팔                                                                                                  7\n",
       "위팔 뒤                                                                                                 7\n",
       "종아리                                                                                                  6\n",
       "고관절                                                                                                  6\n",
       "팔                                                                                                    5\n",
       "발                                                                                                    4\n",
       "목                                                                                                    4\n",
       "허벅지 뒤                                                                                                4\n",
       "옆구리                                                                                                  3\n",
       "허리, \\r\\n                                        등                                                    3\n",
       "가슴, \\r\\n                                        어깨                                                   2\n",
       "허리, \\r\\n                                        둔부                                                   2\n",
       "손목                                                                                                   2\n",
       "어깨, \\r\\n                                        등, \\r\\n                                        팔     1\n",
       "복부, \\r\\n                                        허리                                                   1\n",
       "허벅지, \\r\\n                                        무릎                                                  1\n",
       "허벅지, \\r\\n                                        고관절                                                 1\n",
       "허벅지, \\r\\n                                        발목                                                  1\n",
       "복부, \\r\\n                                        등                                                    1\n",
       "발목                                                                                                   1\n",
       "허벅지, \\r\\n                                        허리                                                  1\n",
       "Name: count, dtype: int64"
      ]
     },
     "execution_count": 38,
     "metadata": {},
     "output_type": "execute_result"
    }
   ],
   "source": [
    "df_all['부위'].value_counts()\n"
   ]
  },
  {
   "cell_type": "code",
   "execution_count": 41,
   "id": "31af3af1",
   "metadata": {},
   "outputs": [
    {
     "data": {
      "image/png": "[encoded data removed]",
      "text/plain": [
       "<Figure size 1400x700 with 1 Axes>"
      ]
     },
     "metadata": {},
     "output_type": "display_data"
    }
   ],
   "source": [
    "import matplotlib.pyplot as plt\n",
    "from matplotlib import font_manager, rc\n",
    "\n",
    "font_path = \"C:/Windows/Fonts/malgun.ttf\"\n",
    "font = font_manager.FontProperties(fname=font_path).get_name()\n",
    "rc('font', family=font)\n",
    "\n",
    "counts = df_all['부위'].value_counts()\n",
    "\n",
    "plt.figure(figsize=(14,7))\n",
    "counts.plot(kind='bar')\n",
    "plt.title('부위별 데이터 개수')\n",
    "plt.xlabel('부위')\n",
    "plt.ylabel('개수')\n",
    "plt.xticks(rotation=45, ha='right')\n",
    "plt.tight_layout()\n",
    "plt.show()\n"
   ]
  },
  {
   "cell_type": "code",
   "execution_count": 42,
   "id": "4c99dcd2",
   "metadata": {},
   "outputs": [],
   "source": [
    "df_all['부위'] = df_all['부위'].replace({\n",
    "    '허벅지 앞': '허벅지',\n",
    "    '허벅지 뒤': '허벅지'\n",
    "})"
   ]
  },
  {
   "cell_type": "code",
   "execution_count": 43,
   "id": "9a768eaf",
   "metadata": {},
   "outputs": [
    {
     "name": "stdout",
     "output_type": "stream",
     "text": [
      "부위\n",
      "복부                                                                                                  27\n",
      "허벅지                                                                                                 24\n",
      "가슴                                                                                                  14\n",
      "허리                                                                                                  13\n",
      "등                                                                                                   12\n",
      "전신                                                                                                  12\n",
      "어깨                                                                                                  12\n",
      "위팔 앞                                                                                                11\n",
      "엉덩이                                                                                                 10\n",
      "다리                                                                                                   8\n",
      "위팔 뒤                                                                                                 7\n",
      "아래팔                                                                                                  7\n",
      "고관절                                                                                                  6\n",
      "종아리                                                                                                  6\n",
      "팔                                                                                                    5\n",
      "목                                                                                                    4\n",
      "발                                                                                                    4\n",
      "옆구리                                                                                                  3\n",
      "허리, \\r\\n                                        등                                                    3\n",
      "가슴, \\r\\n                                        어깨                                                   2\n",
      "허리, \\r\\n                                        둔부                                                   2\n",
      "손목                                                                                                   2\n",
      "허벅지, \\r\\n                                        무릎                                                  1\n",
      "허벅지, \\r\\n                                        고관절                                                 1\n",
      "복부, \\r\\n                                        등                                                    1\n",
      "허벅지, \\r\\n                                        발목                                                  1\n",
      "발목                                                                                                   1\n",
      "허벅지, \\r\\n                                        허리                                                  1\n",
      "복부, \\r\\n                                        허리                                                   1\n",
      "어깨, \\r\\n                                        등, \\r\\n                                        팔     1\n",
      "Name: count, dtype: int64\n"
     ]
    }
   ],
   "source": [
    "print(df_all['부위'].value_counts())"
   ]
  },
  {
   "cell_type": "code",
   "execution_count": 44,
   "id": "143eedf3",
   "metadata": {},
   "outputs": [],
   "source": [
    "df_all['부위'] = df_all['부위'].replace({\n",
    "    '위팔 앞': '팔',\n",
    "    '위팔 뒤': '팔',\n",
    "    '아래팔': '팔'\n",
    "})"
   ]
  },
  {
   "cell_type": "code",
   "execution_count": 45,
   "id": "e6d2d365",
   "metadata": {},
   "outputs": [
    {
     "name": "stdout",
     "output_type": "stream",
     "text": [
      "부위\n",
      "팔                                                                                                   30\n",
      "복부                                                                                                  27\n",
      "허벅지                                                                                                 24\n",
      "가슴                                                                                                  14\n",
      "허리                                                                                                  13\n",
      "등                                                                                                   12\n",
      "전신                                                                                                  12\n",
      "어깨                                                                                                  12\n",
      "엉덩이                                                                                                 10\n",
      "다리                                                                                                   8\n",
      "종아리                                                                                                  6\n",
      "고관절                                                                                                  6\n",
      "발                                                                                                    4\n",
      "목                                                                                                    4\n",
      "옆구리                                                                                                  3\n",
      "허리, \\r\\n                                        등                                                    3\n",
      "손목                                                                                                   2\n",
      "허리, \\r\\n                                        둔부                                                   2\n",
      "가슴, \\r\\n                                        어깨                                                   2\n",
      "복부, \\r\\n                                        등                                                    1\n",
      "허벅지, \\r\\n                                        발목                                                  1\n",
      "발목                                                                                                   1\n",
      "허벅지, \\r\\n                                        고관절                                                 1\n",
      "복부, \\r\\n                                        허리                                                   1\n",
      "허벅지, \\r\\n                                        무릎                                                  1\n",
      "어깨, \\r\\n                                        등, \\r\\n                                        팔     1\n",
      "허벅지, \\r\\n                                        허리                                                  1\n",
      "Name: count, dtype: int64\n"
     ]
    }
   ],
   "source": [
    "print(df_all['부위'].value_counts())"
   ]
  },
  {
   "cell_type": "code",
   "execution_count": 48,
   "id": "13b58442",
   "metadata": {},
   "outputs": [],
   "source": [
    "df_all['부위'] = df_all['부위'].str.replace('\\s+', ' ', regex=True)  # 공백류 정리\n",
    "df_all['부위'] = df_all['부위'].str.replace('\\r', '', regex=False)\n",
    "df_all['부위'] = df_all['부위'].str.replace('\\n', '', regex=False)\n",
    "df_all['부위'] = df_all['부위'].str.strip()  # 양 끝 공백 제거"
   ]
  },
  {
   "cell_type": "code",
   "execution_count": 49,
   "id": "b45b4e56",
   "metadata": {},
   "outputs": [
    {
     "name": "stdout",
     "output_type": "stream",
     "text": [
      "부위\n",
      "팔           30\n",
      "복부          27\n",
      "허벅지         24\n",
      "가슴          14\n",
      "허리          13\n",
      "등           12\n",
      "전신          12\n",
      "어깨          12\n",
      "엉덩이         10\n",
      "다리           8\n",
      "종아리          6\n",
      "고관절          6\n",
      "발            4\n",
      "목            4\n",
      "옆구리          3\n",
      "허리, 등        3\n",
      "손목           2\n",
      "허리, 둔부       2\n",
      "가슴, 어깨       2\n",
      "복부, 등        1\n",
      "허벅지, 발목      1\n",
      "발목           1\n",
      "허벅지, 고관절     1\n",
      "복부, 허리       1\n",
      "허벅지, 무릎      1\n",
      "어깨, 등, 팔     1\n",
      "허벅지, 허리      1\n",
      "Name: count, dtype: int64\n"
     ]
    }
   ],
   "source": [
    "print(df_all['부위'].value_counts())"
   ]
  },
  {
   "cell_type": "code",
   "execution_count": null,
   "id": "1c3d197e",
   "metadata": {},
   "outputs": [],
   "source": [
    "df_all['부위'] = df_all['부위'].apply(lambda x: ', '.join([part.strip() for part in x.split(',')]))"
   ]
  }
 ],
 "metadata": {
  "kernelspec": {
   "display_name": ".venv",
   "language": "python",
   "name": "python3"
  },
  "language_info": {
   "codemirror_mode": {
    "name": "ipython",
    "version": 3
   },
   "file_extension": ".py",
   "mimetype": "text/x-python",
   "name": "python",
   "nbconvert_exporter": "python",
   "pygments_lexer": "ipython3",
   "version": "3.11.9"
  }
 },
 "nbformat": 4,
 "nbformat_minor": 5
}
