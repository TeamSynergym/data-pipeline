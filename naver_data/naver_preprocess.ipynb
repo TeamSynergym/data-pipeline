{
 "cells": [
  {
   "cell_type": "code",
   "execution_count": 1,
   "id": "b8b5bc5c",
   "metadata": {},
   "outputs": [],
   "source": [
    "import pandas as pd\n",
    "\n",
    "df_yoga = pd.read_csv(\"naver_terms_yoga.csv\")\n",
    "df_stretching = pd.read_csv(\"naver_terms_stretching.csv\")\n",
    "df_workout = pd.read_csv(\"naver_terms_workout.csv\")"
   ]
  },
  {
   "cell_type": "code",
   "execution_count": 2,
   "id": "f6065dee",
   "metadata": {},
   "outputs": [],
   "source": [
    "df_yoga[\"종류\"] = \"요가\"\n",
    "df_stretching[\"종류\"] = \"스트레칭\"\n",
    "df_workout[\"종류\"] = \"근력 운동\""
   ]
  },
  {
   "cell_type": "code",
   "execution_count": 3,
   "id": "8f9dc31b",
   "metadata": {},
   "outputs": [
    {
     "data": {
      "text/html": [
       "<div>\n",
       "<style scoped>\n",
       "    .dataframe tbody tr th:only-of-type {\n",
       "        vertical-align: middle;\n",
       "    }\n",
       "\n",
       "    .dataframe tbody tr th {\n",
       "        vertical-align: top;\n",
       "    }\n",
       "\n",
       "    .dataframe thead th {\n",
       "        text-align: right;\n",
       "    }\n",
       "</style>\n",
       "<table border=\"1\" class=\"dataframe\">\n",
       "  <thead>\n",
       "    <tr style=\"text-align: right;\">\n",
       "      <th></th>\n",
       "      <th>제목</th>\n",
       "      <th>개요</th>\n",
       "      <th>효과</th>\n",
       "      <th>썸네일</th>\n",
       "      <th>난이도</th>\n",
       "      <th>자세분류</th>\n",
       "      <th>부위</th>\n",
       "      <th>종류</th>\n",
       "    </tr>\n",
       "  </thead>\n",
       "  <tbody>\n",
       "    <tr>\n",
       "      <th>0</th>\n",
       "      <td>운동 전후 스트레칭</td>\n",
       "      <td>NaN</td>\n",
       "      <td>NaN</td>\n",
       "      <td>https://dbscthumb-phinf.pstatic.net/0955_000_1...</td>\n",
       "      <td>NaN</td>\n",
       "      <td>NaN</td>\n",
       "      <td>NaN</td>\n",
       "      <td>스트레칭</td>\n",
       "    </tr>\n",
       "    <tr>\n",
       "      <th>1</th>\n",
       "      <td>NaN</td>\n",
       "      <td>NaN</td>\n",
       "      <td>NaN</td>\n",
       "      <td>NaN</td>\n",
       "      <td>NaN</td>\n",
       "      <td>NaN</td>\n",
       "      <td>NaN</td>\n",
       "      <td>스트레칭</td>\n",
       "    </tr>\n",
       "    <tr>\n",
       "      <th>2</th>\n",
       "      <td>아침 스트레칭</td>\n",
       "      <td>NaN</td>\n",
       "      <td>NaN</td>\n",
       "      <td>https://dbscthumb-phinf.pstatic.net/0955_000_1...</td>\n",
       "      <td>NaN</td>\n",
       "      <td>NaN</td>\n",
       "      <td>NaN</td>\n",
       "      <td>스트레칭</td>\n",
       "    </tr>\n",
       "    <tr>\n",
       "      <th>3</th>\n",
       "      <td>NaN</td>\n",
       "      <td>NaN</td>\n",
       "      <td>NaN</td>\n",
       "      <td>NaN</td>\n",
       "      <td>NaN</td>\n",
       "      <td>NaN</td>\n",
       "      <td>NaN</td>\n",
       "      <td>스트레칭</td>\n",
       "    </tr>\n",
       "    <tr>\n",
       "      <th>4</th>\n",
       "      <td>잠자기 전 스트레칭</td>\n",
       "      <td>NaN</td>\n",
       "      <td>NaN</td>\n",
       "      <td>https://dbscthumb-phinf.pstatic.net/0955_000_1...</td>\n",
       "      <td>NaN</td>\n",
       "      <td>NaN</td>\n",
       "      <td>NaN</td>\n",
       "      <td>스트레칭</td>\n",
       "    </tr>\n",
       "  </tbody>\n",
       "</table>\n",
       "</div>"
      ],
      "text/plain": [
       "           제목   개요   효과                                                썸네일  \\\n",
       "0  운동 전후 스트레칭  NaN  NaN  https://dbscthumb-phinf.pstatic.net/0955_000_1...   \n",
       "1         NaN  NaN  NaN                                                NaN   \n",
       "2     아침 스트레칭  NaN  NaN  https://dbscthumb-phinf.pstatic.net/0955_000_1...   \n",
       "3         NaN  NaN  NaN                                                NaN   \n",
       "4  잠자기 전 스트레칭  NaN  NaN  https://dbscthumb-phinf.pstatic.net/0955_000_1...   \n",
       "\n",
       "   난이도  자세분류   부위    종류  \n",
       "0  NaN   NaN  NaN  스트레칭  \n",
       "1  NaN   NaN  NaN  스트레칭  \n",
       "2  NaN   NaN  NaN  스트레칭  \n",
       "3  NaN   NaN  NaN  스트레칭  \n",
       "4  NaN   NaN  NaN  스트레칭  "
      ]
     },
     "execution_count": 3,
     "metadata": {},
     "output_type": "execute_result"
    }
   ],
   "source": [
    "df_stretching.head()"
   ]
  },
  {
   "cell_type": "code",
   "execution_count": 4,
   "id": "51b59090",
   "metadata": {},
   "outputs": [
    {
     "data": {
      "text/html": [
       "<div>\n",
       "<style scoped>\n",
       "    .dataframe tbody tr th:only-of-type {\n",
       "        vertical-align: middle;\n",
       "    }\n",
       "\n",
       "    .dataframe tbody tr th {\n",
       "        vertical-align: top;\n",
       "    }\n",
       "\n",
       "    .dataframe thead th {\n",
       "        text-align: right;\n",
       "    }\n",
       "</style>\n",
       "<table border=\"1\" class=\"dataframe\">\n",
       "  <thead>\n",
       "    <tr style=\"text-align: right;\">\n",
       "      <th></th>\n",
       "      <th>제목</th>\n",
       "      <th>개요</th>\n",
       "      <th>효과</th>\n",
       "      <th>썸네일</th>\n",
       "      <th>난이도</th>\n",
       "      <th>자세분류</th>\n",
       "      <th>부위</th>\n",
       "      <th>종류</th>\n",
       "    </tr>\n",
       "  </thead>\n",
       "  <tbody>\n",
       "    <tr>\n",
       "      <th>979</th>\n",
       "      <td>NaN</td>\n",
       "      <td>NaN</td>\n",
       "      <td>NaN</td>\n",
       "      <td>NaN</td>\n",
       "      <td>NaN</td>\n",
       "      <td>NaN</td>\n",
       "      <td>NaN</td>\n",
       "      <td>근력 운동</td>\n",
       "    </tr>\n",
       "    <tr>\n",
       "      <th>980</th>\n",
       "      <td>NaN</td>\n",
       "      <td>NaN</td>\n",
       "      <td>NaN</td>\n",
       "      <td>NaN</td>\n",
       "      <td>NaN</td>\n",
       "      <td>NaN</td>\n",
       "      <td>NaN</td>\n",
       "      <td>근력 운동</td>\n",
       "    </tr>\n",
       "    <tr>\n",
       "      <th>981</th>\n",
       "      <td>NaN</td>\n",
       "      <td>NaN</td>\n",
       "      <td>NaN</td>\n",
       "      <td>NaN</td>\n",
       "      <td>NaN</td>\n",
       "      <td>NaN</td>\n",
       "      <td>NaN</td>\n",
       "      <td>근력 운동</td>\n",
       "    </tr>\n",
       "    <tr>\n",
       "      <th>982</th>\n",
       "      <td>NaN</td>\n",
       "      <td>NaN</td>\n",
       "      <td>NaN</td>\n",
       "      <td>NaN</td>\n",
       "      <td>NaN</td>\n",
       "      <td>NaN</td>\n",
       "      <td>NaN</td>\n",
       "      <td>근력 운동</td>\n",
       "    </tr>\n",
       "    <tr>\n",
       "      <th>983</th>\n",
       "      <td>NaN</td>\n",
       "      <td>NaN</td>\n",
       "      <td>NaN</td>\n",
       "      <td>NaN</td>\n",
       "      <td>NaN</td>\n",
       "      <td>NaN</td>\n",
       "      <td>NaN</td>\n",
       "      <td>근력 운동</td>\n",
       "    </tr>\n",
       "  </tbody>\n",
       "</table>\n",
       "</div>"
      ],
      "text/plain": [
       "      제목   개요   효과  썸네일  난이도 자세분류   부위     종류\n",
       "979  NaN  NaN  NaN  NaN  NaN  NaN  NaN  근력 운동\n",
       "980  NaN  NaN  NaN  NaN  NaN  NaN  NaN  근력 운동\n",
       "981  NaN  NaN  NaN  NaN  NaN  NaN  NaN  근력 운동\n",
       "982  NaN  NaN  NaN  NaN  NaN  NaN  NaN  근력 운동\n",
       "983  NaN  NaN  NaN  NaN  NaN  NaN  NaN  근력 운동"
      ]
     },
     "execution_count": 4,
     "metadata": {},
     "output_type": "execute_result"
    }
   ],
   "source": [
    "df_all = pd.concat([df_yoga, df_stretching, df_workout], ignore_index=True)\n",
    "df_all.tail()"
   ]
  },
  {
   "cell_type": "code",
   "execution_count": 5,
   "id": "44e8a8bb",
   "metadata": {},
   "outputs": [
    {
     "data": {
      "text/html": [
       "<div>\n",
       "<style scoped>\n",
       "    .dataframe tbody tr th:only-of-type {\n",
       "        vertical-align: middle;\n",
       "    }\n",
       "\n",
       "    .dataframe tbody tr th {\n",
       "        vertical-align: top;\n",
       "    }\n",
       "\n",
       "    .dataframe thead th {\n",
       "        text-align: right;\n",
       "    }\n",
       "</style>\n",
       "<table border=\"1\" class=\"dataframe\">\n",
       "  <thead>\n",
       "    <tr style=\"text-align: right;\">\n",
       "      <th></th>\n",
       "      <th>제목</th>\n",
       "      <th>개요</th>\n",
       "      <th>효과</th>\n",
       "      <th>썸네일</th>\n",
       "      <th>난이도</th>\n",
       "      <th>자세분류</th>\n",
       "      <th>부위</th>\n",
       "      <th>종류</th>\n",
       "    </tr>\n",
       "  </thead>\n",
       "  <tbody>\n",
       "    <tr>\n",
       "      <th>count</th>\n",
       "      <td>273</td>\n",
       "      <td>269</td>\n",
       "      <td>136</td>\n",
       "      <td>259</td>\n",
       "      <td>220</td>\n",
       "      <td>101</td>\n",
       "      <td>230</td>\n",
       "      <td>984</td>\n",
       "    </tr>\n",
       "    <tr>\n",
       "      <th>unique</th>\n",
       "      <td>253</td>\n",
       "      <td>249</td>\n",
       "      <td>125</td>\n",
       "      <td>238</td>\n",
       "      <td>3</td>\n",
       "      <td>4</td>\n",
       "      <td>32</td>\n",
       "      <td>3</td>\n",
       "    </tr>\n",
       "    <tr>\n",
       "      <th>top</th>\n",
       "      <td>한쪽 다리 틀어 비틀기</td>\n",
       "      <td>앉은 산 자세는 어깨와 팔, 척추를 스트레칭 해주고 깊은 호흡을 유도해주는 동작이다...</td>\n",
       "      <td>- 편안한 호흡을 돕는다. \\r\\n\\t - 요통과 어깨 결림에 도움이 된다.\\r\\n...</td>\n",
       "      <td>https://dbscthumb-phinf.pstatic.net/0955_000_1...</td>\n",
       "      <td>초급</td>\n",
       "      <td>누운 자세</td>\n",
       "      <td>복부</td>\n",
       "      <td>근력 운동</td>\n",
       "    </tr>\n",
       "    <tr>\n",
       "      <th>freq</th>\n",
       "      <td>2</td>\n",
       "      <td>2</td>\n",
       "      <td>2</td>\n",
       "      <td>2</td>\n",
       "      <td>137</td>\n",
       "      <td>39</td>\n",
       "      <td>31</td>\n",
       "      <td>506</td>\n",
       "    </tr>\n",
       "  </tbody>\n",
       "</table>\n",
       "</div>"
      ],
      "text/plain": [
       "                  제목                                                 개요  \\\n",
       "count            273                                                269   \n",
       "unique           253                                                249   \n",
       "top     한쪽 다리 틀어 비틀기  앉은 산 자세는 어깨와 팔, 척추를 스트레칭 해주고 깊은 호흡을 유도해주는 동작이다...   \n",
       "freq               2                                                  2   \n",
       "\n",
       "                                                       효과  \\\n",
       "count                                                 136   \n",
       "unique                                                125   \n",
       "top     - 편안한 호흡을 돕는다. \\r\\n\\t - 요통과 어깨 결림에 도움이 된다.\\r\\n...   \n",
       "freq                                                    2   \n",
       "\n",
       "                                                      썸네일  난이도   자세분류   부위  \\\n",
       "count                                                 259  220    101  230   \n",
       "unique                                                238    3      4   32   \n",
       "top     https://dbscthumb-phinf.pstatic.net/0955_000_1...   초급  누운 자세   복부   \n",
       "freq                                                    2  137     39   31   \n",
       "\n",
       "           종류  \n",
       "count     984  \n",
       "unique      3  \n",
       "top     근력 운동  \n",
       "freq      506  "
      ]
     },
     "execution_count": 5,
     "metadata": {},
     "output_type": "execute_result"
    }
   ],
   "source": [
    "df_all.describe()"
   ]
  },
  {
   "cell_type": "code",
   "execution_count": 6,
   "id": "ffe5a0d6",
   "metadata": {},
   "outputs": [
    {
     "name": "stdout",
     "output_type": "stream",
     "text": [
      "드랍 행 수: 711\n",
      "남은 행 수: 273\n"
     ]
    }
   ],
   "source": [
    "# \"종류\" 컬럼을 제외한 나머지 컬럼 목록 추출\n",
    "cols_except_kind = df_all.columns.difference([\"종류\"])\n",
    "\n",
    "# 그 컬럼들 전부가 NaN인 행을 제거\n",
    "before = len(df_all)\n",
    "df_all = df_all[~df_all[cols_except_kind].isna().all(axis=1)]\n",
    "after = len(df_all)\n",
    "\n",
    "print(f\"드랍 행 수: {before - after}\")\n",
    "print(f\"남은 행 수: {after}\")"
   ]
  },
  {
   "cell_type": "code",
   "execution_count": 7,
   "id": "6c4eab51",
   "metadata": {},
   "outputs": [
    {
     "name": "stdout",
     "output_type": "stream",
     "text": [
      "제목        0\n",
      "개요        4\n",
      "효과      137\n",
      "썸네일      14\n",
      "난이도      53\n",
      "자세분류    172\n",
      "부위       43\n",
      "종류        0\n",
      "dtype: int64\n"
     ]
    }
   ],
   "source": [
    "print(df_all.isna().sum())"
   ]
  },
  {
   "cell_type": "code",
   "execution_count": 8,
   "id": "551896da",
   "metadata": {},
   "outputs": [
    {
     "name": "stdout",
     "output_type": "stream",
     "text": [
      "제거된 행 수: 4\n",
      "남은 전체 행 수: 269\n"
     ]
    }
   ],
   "source": [
    "before = len(df_all)\n",
    "df_all = df_all.dropna(subset=[\"개요\", \"효과\"], how=\"all\")\n",
    "after = len(df_all)\n",
    "\n",
    "print(f\"제거된 행 수: {before - after}\")\n",
    "print(f\"남은 전체 행 수: {after}\")\n"
   ]
  },
  {
   "cell_type": "code",
   "execution_count": 9,
   "id": "b4aa838e",
   "metadata": {},
   "outputs": [
    {
     "name": "stdout",
     "output_type": "stream",
     "text": [
      "제목        0\n",
      "개요        0\n",
      "효과      133\n",
      "썸네일      14\n",
      "난이도      49\n",
      "자세분류    168\n",
      "부위       39\n",
      "종류        0\n",
      "dtype: int64\n"
     ]
    }
   ],
   "source": [
    "print(df_all.isna().sum())"
   ]
  },
  {
   "cell_type": "code",
   "execution_count": 10,
   "id": "7391ca10",
   "metadata": {},
   "outputs": [],
   "source": [
    "df_all.loc[df_all[\"종류\"] == \"스트레칭\", \"난이도\"] = \"초급\""
   ]
  },
  {
   "cell_type": "code",
   "execution_count": 11,
   "id": "8c55318f",
   "metadata": {},
   "outputs": [
    {
     "name": "stdout",
     "output_type": "stream",
     "text": [
      "제목        0\n",
      "개요        0\n",
      "효과      133\n",
      "썸네일      14\n",
      "난이도      14\n",
      "자세분류    168\n",
      "부위       39\n",
      "종류        0\n",
      "dtype: int64\n"
     ]
    }
   ],
   "source": [
    "print(df_all.isna().sum())"
   ]
  },
  {
   "cell_type": "code",
   "execution_count": 15,
   "id": "eefbfe28",
   "metadata": {},
   "outputs": [
    {
     "name": "stdout",
     "output_type": "stream",
     "text": [
      "전체 행 수: 269\n"
     ]
    }
   ],
   "source": [
    "print(f\"전체 행 수: {len(df_all)}\")"
   ]
  },
  {
   "cell_type": "code",
   "execution_count": 16,
   "id": "3596f8a8",
   "metadata": {},
   "outputs": [
    {
     "name": "stdout",
     "output_type": "stream",
     "text": [
      "중복된 행 수 (첫 번째 제외): 19\n"
     ]
    }
   ],
   "source": [
    "duplicates_count = df_all.duplicated().sum()\n",
    "print(f\"중복된 행 수 (첫 번째 제외): {duplicates_count}\")\n"
   ]
  },
  {
   "cell_type": "code",
   "execution_count": 21,
   "id": "96c689ba",
   "metadata": {},
   "outputs": [],
   "source": [
    "df_all = df_all.drop_duplicates(keep='first')\n"
   ]
  },
  {
   "cell_type": "code",
   "execution_count": 22,
   "id": "38b11993",
   "metadata": {},
   "outputs": [
    {
     "name": "stdout",
     "output_type": "stream",
     "text": [
      "중복 제거 후 전체 행 수: 250\n"
     ]
    }
   ],
   "source": [
    "print(f\"중복 제거 후 전체 행 수: {len(df_all)}\")"
   ]
  },
  {
   "cell_type": "code",
   "execution_count": 23,
   "id": "5cbe4af9",
   "metadata": {},
   "outputs": [
    {
     "name": "stdout",
     "output_type": "stream",
     "text": [
      "제목        0\n",
      "개요        0\n",
      "효과      124\n",
      "썸네일      12\n",
      "난이도      12\n",
      "자세분류    159\n",
      "부위       36\n",
      "종류        0\n",
      "dtype: int64\n"
     ]
    }
   ],
   "source": [
    "print(df_all.isna().sum())"
   ]
  },
  {
   "cell_type": "code",
   "execution_count": null,
   "id": "3f1e2f28",
   "metadata": {},
   "outputs": [],
   "source": []
  }
 ],
 "metadata": {
  "kernelspec": {
   "display_name": ".venv",
   "language": "python",
   "name": "python3"
  },
  "language_info": {
   "codemirror_mode": {
    "name": "ipython",
    "version": 3
   },
   "file_extension": ".py",
   "mimetype": "text/x-python",
   "name": "python",
   "nbconvert_exporter": "python",
   "pygments_lexer": "ipython3",
   "version": "3.11.9"
  }
 },
 "nbformat": 4,
 "nbformat_minor": 5
}
